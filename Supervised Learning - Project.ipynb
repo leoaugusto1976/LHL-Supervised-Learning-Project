{
 "cells": [
  {
   "cell_type": "markdown",
   "id": "3e985673",
   "metadata": {},
   "source": [
    "# Supervised Learning - Project"
   ]
  },
  {
   "cell_type": "markdown",
   "id": "08aa509e",
   "metadata": {},
   "source": [
    "In this Project, we are going to perform a full supervised learning machine learning project on a \"Diabetes\" dataset. This dataset is originally from the National Institute of Diabetes and Digestive and Kidney\n",
    "Diseases. The objective of the dataset is to diagnostically predict whether a patient has diabetes,\n",
    "based on certain diagnostic measurements included in the dataset. \n",
    "\n",
    "[Kaggle Dataset](https://www.kaggle.com/datasets/akshaydattatraykhare/diabetes-dataset)"
   ]
  },
  {
   "cell_type": "markdown",
   "id": "4e3e6a19",
   "metadata": {},
   "source": [
    "# Part I : EDA - Exploratory Data Analysis"
   ]
  },
  {
   "cell_type": "markdown",
   "id": "0d46714a",
   "metadata": {},
   "source": [
    "  - For this task, you are required to conduct an exploratory data analysis on the diabetes dataset. You have the freedom to choose the visualizations you want to use, but your analysis should cover the following tasks mostly:\n",
    "\n",
    "1. Are there any missing values in the dataset?\n",
    "1. How are the predictor variables related to the outcome variable?\n",
    "1. What is the correlation between the predictor variables?\n",
    "1. What is the distribution of each predictor variable?\n",
    "1. Are there any outliers in the predictor variables?\n",
    "1. How are the predictor variables related to each other?\n",
    "1. Is there any interaction effect between the predictor variables?\n",
    "1. What is the average age of the individuals in the dataset?\n",
    "1. What is the average glucose level for individuals with diabetes and without diabetes?\n",
    "1. What is the average BMI for individuals with diabetes and without diabetes?\n",
    "1. How does the distribution of the predictor variables differ for individuals with diabetes and without diabetes?\n",
    "1. Are there any differences in the predictor variables between males and females (if gender information is available)?\n",
    "\n",
    "  - ##### Notebook: https://github.com/leoaugusto1976/LHL-Supervised-Learning-Project/blob/main/notebooks/2.data_analysis.ipynb"
   ]
  },
  {
   "cell_type": "markdown",
   "id": "29a9ddd5",
   "metadata": {},
   "source": [
    "# Part II : Preprocessing & Feature Engineering"
   ]
  },
  {
   "cell_type": "markdown",
   "id": "0efa25cc",
   "metadata": {},
   "source": [
    "- You need to perform preprocessing on the given dataset. Please consider the following tasks and carry out the necessary steps accordingly.\n",
    "  - Handling missing values\n",
    "  - Handling outliers\n",
    "  - Scaling and normalization\n",
    "  - Feature Engineering\n",
    "  - Handling imbalanced data\n",
    "<br><br>\n",
    "- ##### For cleaning data, go to the notebook: https://github.com/leoaugusto1976/LHL-Supervised-Learning-Project/blob/main/notebooks/1.diabetes.ipynb\n",
    "- ##### For feature engineering, go to the notebook: https://github.com/leoaugusto1976/LHL-Supervised-Learning-Project/blob/main/notebooks/3.feature_engineering.ipynb"
   ]
  },
  {
   "cell_type": "markdown",
   "id": "5702ddcf",
   "metadata": {},
   "source": [
    "# Part III : Training ML Model"
   ]
  },
  {
   "cell_type": "markdown",
   "id": "ecca0ccc",
   "metadata": {},
   "source": [
    "For this task, you are required to build a machine learning model to predict the outcome variable. This will be a binary classification task, as the target variable is binary. You should select at least two models, one of which should be an ensemble model, and compare their performance.\n",
    "\n",
    "- Train the models: Train the selected models on the training set.\n",
    "- Model evaluation: Evaluate the trained models on the testing set using appropriate evaluation metrics, such as accuracy, precision, recall, F1-score, and ROC-AUC.\n",
    "- Model comparison: Compare the performance of the selected models and choose the best-performing model based on the evaluation metrics. You can also perform additional analysis, such as model tuning and cross-validation, to improve the model's performance."
   ]
  },
  {
   "cell_type": "markdown",
   "id": "2cf4588a",
   "metadata": {},
   "source": [
    "- ##### Notebook: https://github.com/leoaugusto1976/LHL-Supervised-Learning-Project/blob/main/notebooks/4.machine_learning.ipynb"
   ]
  },
  {
   "cell_type": "markdown",
   "id": "142ed923",
   "metadata": {},
   "source": [
    "# Part IV : Conclusion"
   ]
  },
  {
   "cell_type": "markdown",
   "id": "8aaec134",
   "metadata": {},
   "source": [
    "From the machine learning models developed and the exploratory data analysis (EDA) conducted, generate four bullet points as your findings."
   ]
  },
  {
   "cell_type": "markdown",
   "id": "9c57bc89",
   "metadata": {},
   "source": [
    "#### Result 1: BMI Category vs Patient has diabetes, Stacked by Age Group\n",
    "\n",
    "- It shows the distribution of individuals with different BMI categories (Underweight, Normal, Overweight, Obese) based on whether they have diabetes, separated by age groups (Young and Adult).\n",
    "- The results indicate that the Obese category has the highest number of individuals, both in the Young and Adult age groups, and a significant portion of them has diabetes.\n",
    "- It's important to note that there are no individuals with \"Underweight\" who have diabetes in either the Young or Adult group.\n",
    "\n",
    "#### Result 2: Insulin Level vs Patient has diabetes, Stacked by Age Group\n",
    "\n",
    "- This result illustrates how insulin levels (low, normal, elevated, high) relate to the presence of diabetes, broken down by age groups (Young and Adult).\n",
    "- Notably, individuals with \"insulin normal\" levels are the most common in both age groups, and a significant portion of them has diabetes.\n",
    "- The \"insulin elevated\" level group also has a substantial number of individuals with diabetes.\n",
    "\n",
    "#### Result 3: Glucose Level vs Patient has diabetes, Stacked by Age Group\n",
    "\n",
    "- This result shows the connection between glucose levels (low, normal, prediabetes, diabetes) and the presence of diabetes, categorized by age groups (Young and Adult).\n",
    "- It appears that many individuals with \"glucose prediabetes\" and \"glucose diabetes\" have diabetes in both age groups.\n",
    "- Individuals with \"glucose normal\" levels also have a notable number of diabetes cases, especially in the Adult group.\n",
    "\n",
    "These insights can be valuable for understanding the relationships between these factors and the presence of diabetes. Keep in mind that these insights provide a snapshot of the data, and further statistical analysis or modeling may be needed to draw more robust conclusions or make predictions. Additionally, it's essential to consider the specific context and objectives of your analysis when interpreting these results."
   ]
  },
  {
   "cell_type": "markdown",
   "id": "ff62aa25",
   "metadata": {},
   "source": [
    "#### Machine Learning key findings\n",
    "\n",
    "- **Balanced Class Performance**: Undersampling has successfully balanced the class distribution in the dataset, leading to improved model performance for both Logistic Regression and Random Forest Classifier. Both models demonstrate good accuracy, precision, recall, F1 score, and ROC AUC score for both classes (Outcome 0 and Outcome 1).\n",
    "\n",
    "- **Logistic Regression Findings**:\n",
    "  - The Logistic Regression model achieves an accuracy of 0.71, with a balanced F1 score of 0.76, suggesting that it can predict diabetes outcomes reasonably well.\n",
    "  - It demonstrates a higher recall (0.85) for class 1 (indicating individuals with diabetes) compared to class 0, which means it is effective at identifying positive cases.  \n",
    "\n",
    "- **Random Forest Classifier Findings**:\n",
    "  - The Random Forest Classifier exhibits excellent performance with an accuracy of 0.87 and a balanced F1 score of 0.89. This indicates strong predictive capabilities for both classes.\n",
    "  - It maintains a high recall (0.92) for class 1, demonstrating its ability to identify individuals with diabetes, while maintaining a respectable recall (0.81) for class 0.  \n",
    "\n",
    "- **Model Selection**: The Random Forest Classifier outperforms the Logistic Regression model in terms of accuracy, precision, recall, F1 score, and ROC AUC score. It is the preferred model for this balanced dataset, offering robust predictive capabilities and well-balanced classification metrics for both classes.\n",
    "\n",
    "These findings highlight the effectiveness of undersampling in achieving a balanced dataset and improving model performance. The Random Forest Classifier, in particular, stands out as a strong choice for making accurate predictions in this context, with a focus on both class 0 and class 1 outcomes."
   ]
  },
  {
   "cell_type": "markdown",
   "id": "8131b52d",
   "metadata": {},
   "source": [
    "#### Maybe adding Gender...\n",
    "Adding gender information to the dataset can provide valuable insights into the potential gender-based variations in diabetes outcomes. This additional feature would enable us to explore whether there are differences in diabetes risk, progression, or response to treatments between the genders. By including gender as a predictor variable, we can conduct more granular analyses, identify potential gender-specific risk factors, and tailor interventions for improved diabetes management. Gender is a fundamental demographic factor that can significantly enhance the depth and accuracy of our predictive models and inform personalized healthcare strategies."
   ]
  }
 ],
 "metadata": {
  "kernelspec": {
   "display_name": "Python 3 (ipykernel)",
   "language": "python",
   "name": "python3"
  },
  "language_info": {
   "codemirror_mode": {
    "name": "ipython",
    "version": 3
   },
   "file_extension": ".py",
   "mimetype": "text/x-python",
   "name": "python",
   "nbconvert_exporter": "python",
   "pygments_lexer": "ipython3",
   "version": "3.11.5"
  }
 },
 "nbformat": 4,
 "nbformat_minor": 5
}
